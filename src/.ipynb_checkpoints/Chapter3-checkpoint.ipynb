{
 "cells": [
  {
   "cell_type": "markdown",
   "metadata": {},
   "source": [
    "# Notebook examples for Chapter 3"
   ]
  },
  {
   "cell_type": "markdown",
   "metadata": {},
   "source": [
    "### Power spectrum of an image band"
   ]
  },
  {
   "cell_type": "code",
   "execution_count": null,
   "metadata": {},
   "outputs": [],
   "source": [
    "import warnings\n",
    "# these are innocuous but irritating\n",
    "warnings.filterwarnings(\"ignore\", message=\"numpy.dtype size changed\")\n",
    "warnings.filterwarnings(\"ignore\", message=\"numpy.ufunc size changed\")\n",
    "%matplotlib inline"
   ]
  },
  {
   "cell_type": "code",
   "execution_count": null,
   "metadata": {},
   "outputs": [],
   "source": [
    "import numpy as np\n",
    "from numpy import fft\n",
    "from osgeo import gdal\n",
    "from osgeo.gdalconst import GA_ReadOnly\n",
    "import matplotlib.pyplot as plt\n",
    "\n",
    "gdal.AllRegister()\n",
    "infile = 'imagery/AST_20070501'\n",
    "                  \n",
    "inDataset = gdal.Open(infile,GA_ReadOnly)     \n",
    "cols = inDataset.RasterXSize\n",
    "rows = inDataset.RasterYSize    \n",
    "\n",
    "band = inDataset.GetRasterBand(3)  \n",
    "image = band.ReadAsArray(0,0,cols,rows)\n",
    "#  arrays of i and j values    \n",
    "a = np.reshape(range(rows*cols),(rows,cols))\n",
    "i = a % cols\n",
    "j = a / cols\n",
    "#  shift Fourier transform to center    \n",
    "image1 = (-1)**(i+j)*image\n",
    "#  compute power spectrum and display    \n",
    "image1 = np.log(np.abs(fft.fft2(image1))**2)\n",
    "mn = np.amin(image1)\n",
    "mx = np.amax(image1)\n",
    "plt.imshow((image1-mn)/(mx-mn), cmap='gray')   \n",
    "\n",
    "#plt.savefig('/home/mort/LaTeX/new projects/CRC4/Chapter3/fig3_1.eps')"
   ]
  },
  {
   "cell_type": "markdown",
   "metadata": {},
   "source": [
    "### Image compression with the Haar wavelet"
   ]
  },
  {
   "cell_type": "code",
   "execution_count": null,
   "metadata": {},
   "outputs": [],
   "source": [
    "# The Haar mother wavelet\n",
    "def psi_m(x):\n",
    "    if x<0:return 0.0 \n",
    "    elif x<=0.5:return 1.0\n",
    "    elif x<=1.0:return -1.0\n",
    "    else:return 0.0\n",
    "# The Haar basis functions   \n",
    "def psi(m,k,n):\n",
    "    c = 2**n\n",
    "    result = np.zeros(c)\n",
    "    x = np.linspace(0,1,num=c)\n",
    "    for i in range(c):\n",
    "        result[i] = psi_m((2**m)*x[i]-k)\n",
    "    return result\n",
    "\n",
    "# Generate wavelet basis B_8\n",
    "n = 8\n",
    "B = np.ones((2**n,2**n))\n",
    "i = 1\n",
    "for m in range(n):\n",
    "    for k in range(2**m):\n",
    "        B[:,i] = psi(m,k,n)\n",
    "        i += 1\n",
    "B = np.mat(B)  \n",
    "\n",
    "# 256x256 subset\n",
    "G = np.mat(image[200:456,200:456])\n",
    "\n",
    "# Wavelet transformation\n",
    "Gw = np.mat(np.zeros((256,256)))\n",
    "# Filter the columns\n",
    "for j in range(256):\n",
    "    Gw[:,j] = B.I*G[:,j]\n",
    "# Filter the rows    \n",
    "for i in range(256):\n",
    "    Gw[i,:] = (B.I*Gw[i,:].T).T\n",
    "# Histogram of wavelet coefficients    \n",
    "Gw = np.array(Gw).ravel()\n",
    "p = plt.hist(Gw,bins=30,range=(-10,10))\n",
    "\n",
    "#plt.savefig('/home/mort/LaTeX/new projects/CRC4/Chapter3/fig3_6.eps')"
   ]
  },
  {
   "cell_type": "code",
   "execution_count": null,
   "metadata": {},
   "outputs": [],
   "source": [
    "# Truncate and reshape\n",
    "Gw = np.reshape(np.where(np.abs(Gw)<2,0,Gw),(256,256))\n",
    "# Invert the transformation\n",
    "Gw = np.mat(Gw)\n",
    "Gc = np.mat(np.zeros((256,256)))\n",
    "for i in range(256):\n",
    "    Gc[i,:] = (B*Gw[i,:].T).T\n",
    "for j in range(256):    \n",
    "    Gc[:,j] = B*Gc[:,j]\n",
    "f, ax = plt.subplots(1,2,figsize=(16,8))\n",
    "ax[0].imshow(np.array(G)/255,cmap='gray')\n",
    "ax[1].imshow(np.array(Gc)/255,cmap='gray')\n",
    "\n",
    "#f.savefig('/home/mort/LaTeX/new projects/CRC4/Chapter3/fig3_7.eps',bbox_inches='tight')"
   ]
  },
  {
   "cell_type": "code",
   "execution_count": null,
   "metadata": {},
   "outputs": [],
   "source": [
    "from scipy import sparse\n",
    "\n",
    "sG = sparse.csr_matrix(G)\n",
    "sGw = sparse.csr_matrix(Gw)\n",
    "print sG.data.nbytes\n",
    "print sGw.data.nbytes"
   ]
  },
  {
   "cell_type": "markdown",
   "metadata": {
    "collapsed": true
   },
   "source": [
    "### The cascade algorithm"
   ]
  },
  {
   "cell_type": "code",
   "execution_count": null,
   "metadata": {},
   "outputs": [],
   "source": [
    "def F(x,i,c):\n",
    "    if i==0:\n",
    "        if x==0:\n",
    "            return 1.0\n",
    "        else:\n",
    "            return 0.0\n",
    "    else:\n",
    "        return c[0]*F(2*x,i-1,c)+c[1]*F(2*x-1,i-1,c) \\\n",
    "              +c[2]*F(2*x-2,i-1,c)+c[3]*F(2*x-3,i-1,c) \\\n",
    "              +c[4]*F(2*x-4,i-1,c)\n",
    "            \n",
    "# Haar refinement coefficients\n",
    "c = np.zeros(5)\n",
    "c[0] = 1.0; c[1] = 1.0\n",
    "\n",
    "# fourth order approximation\n",
    "n = 4\n",
    "x = np.array(range(4*2**n))/float(2**n)\n",
    "FF = np.zeros(4*2**n)\n",
    "for i in range(4*2**n):\n",
    "    FF[i] = F(x[i],n,c)\n",
    "    \n",
    "plt.plot(x,FF)    \n",
    "plt.ylim(-1,2)\n",
    "\n",
    "#plt.savefig('/home/mort/LaTeX/new projects/CRC4/Chapter3/fig3_8.eps')"
   ]
  },
  {
   "cell_type": "code",
   "execution_count": null,
   "metadata": {},
   "outputs": [],
   "source": [
    "# Daubechies D4 refinement coeffificents\n",
    "c = np.zeros(5)\n",
    "c[0] = (1+np.sqrt(3))/4; c[1] = (3+np.sqrt(3))/4\n",
    "c[2] = (3-np.sqrt(3))/4; c[3] = (1-np.sqrt(3))/4\n",
    "c[4] = 0.0\n",
    "\n",
    "for i in range(4*2**n):\n",
    "    FF[i] = F(x[i],n,c)\n",
    "    \n",
    "plt.plot(x,FF)    \n",
    "plt.ylim(-1,2)\n",
    "\n",
    "#plt.savefig('/home/mort/LaTeX/new projects/CRC4/Chapter3/fig3_9.eps')"
   ]
  },
  {
   "cell_type": "markdown",
   "metadata": {
    "collapsed": true
   },
   "source": [
    "### Principal components"
   ]
  },
  {
   "cell_type": "code",
   "execution_count": null,
   "metadata": {},
   "outputs": [],
   "source": [
    "import ee\n",
    "from ipyleaflet import (Map,DrawControl,TileLayer)\n",
    "from auxil import eepca\n",
    "ee.Initialize()\n",
    "\n",
    "# function for overlaying tiles onto a map\n",
    "def GetTileLayerUrl(ee_image_object):\n",
    "  map_id = ee.Image(ee_image_object).getMapId()\n",
    "  tile_url_template =  \"https://earthengine.googleapis.com/map/{mapid}/{{z}}/{{x}}/{{y}}?token={token}\"\n",
    "  return tile_url_template.format(**map_id)\n",
    "\n",
    "# get the image\n",
    "im = ee.Image(\n",
    "  'LANDSAT/LE07/C01/T1_RT_TOA/LE07_197025_20010626') \\\n",
    "              .select('B1','B2','B3','B4','B5','B7')\n",
    "\n",
    "# perform principal components analysis\n",
    "pcs, lambdas = eepca.pca(im) \n",
    "\n",
    "# display the default base map and overlay the PCA image\n",
    "m = Map(center=[50.7, 6.4], zoom=7)\n",
    "\n",
    "m.add_layer(TileLayer(url=GetTileLayerUrl(\n",
    "        pcs.select('pc1','pc2','pc3') \\\n",
    "       .visualize(min=-0.1, max=0.1, opacity = 1.0)\n",
    "    )\n",
    "))\n",
    "\n",
    "m"
   ]
  },
  {
   "cell_type": "code",
   "execution_count": null,
   "metadata": {},
   "outputs": [],
   "source": [
    "gdexporttask = ee.batch.Export.image.toDrive(pcs,\n",
    "               description='driveExportTask', \n",
    "               folder='EarthEngineImages',\n",
    "               fileNamePrefix='PCS',\n",
    "               scale=30,\n",
    "               maxPixels=1e9) \n",
    "gdexporttask.start()              "
   ]
  },
  {
   "cell_type": "code",
   "execution_count": null,
   "metadata": {},
   "outputs": [],
   "source": [
    "run scripts/ex3_1"
   ]
  },
  {
   "cell_type": "code",
   "execution_count": null,
   "metadata": {},
   "outputs": [],
   "source": [
    "run scripts/pca -r 2 -n imagery/LE7_20010626"
   ]
  },
  {
   "cell_type": "code",
   "execution_count": null,
   "metadata": {},
   "outputs": [],
   "source": [
    "%run scripts/dispms -f imagery/LE7_20010626 -p [1,2,3] -e 2 \\\n",
    "-F imagery/LE7_20010626_recon -P [1,2,3] -E 2 \n",
    "#-s '/home/mort/LaTeX/new projects/CRC4/Chapter3/fig3_11.eps'"
   ]
  },
  {
   "cell_type": "markdown",
   "metadata": {
    "collapsed": true
   },
   "source": [
    "### Dual solution"
   ]
  },
  {
   "cell_type": "code",
   "execution_count": null,
   "metadata": {},
   "outputs": [],
   "source": [
    "# column-centered data matrix for random 2D data\n",
    "G = np.mat(2*np.random.rand(100,2))-1\n",
    "# covariance matrix\n",
    "S = G.T*G/99\n",
    "# Gram matrix\n",
    "K = G*G.T\n",
    "lambda_s, _ = np.linalg.eigh(S)\n",
    "lambda_k, _ = np.linalg.eigh(K)\n",
    "# sort eigenvalues in decreasing oder\n",
    "idx = np.argsort(lambda_s)[::-1]\n",
    "lambda_s = lambda_s[idx]\n",
    "idx = np.argsort(lambda_k)[::-1]\n",
    "lambda_k = lambda_k[idx]\n",
    "# compare\n",
    "print lambda_s\n",
    "print lambda_k[0:3]/99"
   ]
  },
  {
   "cell_type": "code",
   "execution_count": null,
   "metadata": {},
   "outputs": [],
   "source": [
    "run scripts/ex3_2 imagery/LE7_20010626"
   ]
  },
  {
   "cell_type": "markdown",
   "metadata": {},
   "source": [
    "### Minimum noise fraction"
   ]
  },
  {
   "cell_type": "code",
   "execution_count": null,
   "metadata": {},
   "outputs": [],
   "source": [
    "run scripts/mnf -n imagery/LE7_20010626"
   ]
  },
  {
   "cell_type": "code",
   "execution_count": null,
   "metadata": {},
   "outputs": [],
   "source": [
    "run scripts/dispms -f imagery/LE7_20010626_mnf -p [3,1,2] -e 4 \\\n",
    "#-s '/home/mort/LaTeX/new projects/CRC4/Chapter3/fig3_12.eps' "
   ]
  },
  {
   "cell_type": "markdown",
   "metadata": {},
   "source": [
    "#### Excercise 13"
   ]
  },
  {
   "cell_type": "code",
   "execution_count": null,
   "metadata": {},
   "outputs": [],
   "source": [
    "# a 2D two-class image\n",
    "n1 = np.random.randn(1000)\n",
    "n2 = n1 + np.random.randn(1000)\n",
    "B1 = np.zeros((1000,2))\n",
    "B2 = np.zeros((1000,2))\n",
    "B1[:,0] = n1\n",
    "B1[:,1] = n2\n",
    "B2[:,0] = n1+4\n",
    "B2[:,1] = n2\n",
    "G = np.concatenate((B1,B2))\n",
    "# center the image\n",
    "G[:,0] = G[:,0] - np.mean(G[:,0])\n",
    "# estimate covariance and diagonalize\n",
    "C = np.mat(G).T*np.mat(G)/2000\n",
    "_,U = np.linalg.eigh(C)\n",
    "# slopes of the principal axes\n",
    "s1 = U[1,1]/U[0,1]\n",
    "s2 = U[1,0]/U[0,0]\n",
    "# plot\n",
    "plt.xlim((-5,5))\n",
    "plt.ylim((-5,5))\n",
    "plt.axes().set_aspect(1)\n",
    "plt.plot(G[:,0],G[:,1],'b.',\n",
    "         [-5,5],[-5*s1,5*s1],'k',\n",
    "         [-5,5],[-5*s2,5*s2],'k')\n",
    "\n",
    "#plt.savefig('/home/mort/LaTeX/new projects/CRC4/Chapter3/fig3_13.eps',bbox_inches='tight')"
   ]
  }
 ],
 "metadata": {
  "kernelspec": {
   "display_name": "Python 2",
   "language": "python",
   "name": "python2"
  },
  "language_info": {
   "codemirror_mode": {
    "name": "ipython",
    "version": 2
   },
   "file_extension": ".py",
   "mimetype": "text/x-python",
   "name": "python",
   "nbconvert_exporter": "python",
   "pygments_lexer": "ipython2",
   "version": "2.7.12"
  }
 },
 "nbformat": 4,
 "nbformat_minor": 2
}
