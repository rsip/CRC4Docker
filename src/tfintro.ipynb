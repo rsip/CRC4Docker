{
 "cells": [
  {
   "cell_type": "markdown",
   "metadata": {},
   "source": [
    "### Introduction to TensorFlow"
   ]
  },
  {
   "cell_type": "markdown",
   "metadata": {},
   "source": [
    "#### Graph execution (standard)"
   ]
  },
  {
   "cell_type": "code",
   "execution_count": 1,
   "metadata": {},
   "outputs": [
    {
     "name": "stdout",
     "output_type": "stream",
     "text": [
      "False\n",
      "WARNING:tensorflow:From /usr/local/lib/python2.7/dist-packages/tensorflow/python/framework/op_def_library.py:263: colocate_with (from tensorflow.python.framework.ops) is deprecated and will be removed in a future version.\n",
      "Instructions for updating:\n",
      "Colocations handled automatically by placer.\n",
      "[[32.]]\n"
     ]
    }
   ],
   "source": [
    "import tensorflow as tf\n",
    "from datetime import datetime\n",
    "print tf.executing_eagerly()\n",
    "\n",
    "tf.reset_default_graph()\n",
    "\n",
    "# log file for tensorboard\n",
    "now = datetime.utcnow().strftime(\"%Y%m%d%H%M%S\")\n",
    "logdir = 'tf_logs/run-'+str(now)\n",
    "\n",
    "# setup the execution graph to calculate an inner product of two tensors\n",
    "x = tf.Variable([[1.,2.,3.]])\n",
    "y = tf.Variable([[4.,5.,6.]])\n",
    "yt = tf.transpose(y)\n",
    "z = tf.matmul(x,yt)\n",
    "init = tf.global_variables_initializer()\n",
    "file_writer = tf.summary.FileWriter(logdir,tf.get_default_graph())   \n",
    "\n",
    "# execute in the default session\n",
    "sess = tf.Session()\n",
    "sess.run(init)\n",
    "result = sess.run(z)\n",
    "print result\n",
    "sess.close()\n",
    "file_writer.close()"
   ]
  },
  {
   "cell_type": "code",
   "execution_count": 9,
   "metadata": {},
   "outputs": [
    {
     "name": "stdout",
     "output_type": "stream",
     "text": [
      "TensorBoard 1.12.0 at http://vivo:6006 (Press CTRL+C to quit)\n",
      "^C\n"
     ]
    }
   ],
   "source": [
    "# inspect the graph on localhost:6006\n",
    "!tensorboard --logdir tf_logs/"
   ]
  },
  {
   "cell_type": "code",
   "execution_count": 2,
   "metadata": {},
   "outputs": [
    {
     "name": "stdout",
     "output_type": "stream",
     "text": [
      "[[32.]]\n"
     ]
    }
   ],
   "source": [
    "# or do the same calculation this way\n",
    "with tf.Session() as sess:\n",
    "    init.run()\n",
    "    result = z.eval() \n",
    "print result   "
   ]
  },
  {
   "cell_type": "code",
   "execution_count": 3,
   "metadata": {},
   "outputs": [
    {
     "name": "stdout",
     "output_type": "stream",
     "text": [
      "[[32.]]\n"
     ]
    }
   ],
   "source": [
    "# or this way\n",
    "import numpy as np\n",
    "\n",
    "# input data as numpy arrays\n",
    "x_data = np.array([[1,2,3]])\n",
    "y_data = np.array([[4,5,6]])\n",
    "\n",
    "# execution graph with placeholders instead of variables\n",
    "x = tf.placeholder(tf.float32,shape=(1,3))\n",
    "y = tf.placeholder(tf.float32,shape=(1,3))\n",
    "yt = tf.transpose(y)\n",
    "z = tf.matmul(x,yt)\n",
    "\n",
    "# execute in default session\n",
    "with tf.Session() as sess:\n",
    "    init.run()\n",
    "    result = z.eval(feed_dict = {x: x_data, y: y_data})\n",
    "print result"
   ]
  },
  {
   "cell_type": "code",
   "execution_count": 4,
   "metadata": {},
   "outputs": [
    {
     "name": "stdout",
     "output_type": "stream",
     "text": [
      "[[32.]]\n"
     ]
    }
   ],
   "source": [
    "# same as above, but this time we save the model\n",
    "\n",
    "saver = tf.train.Saver() # saver node\n",
    "\n",
    "with tf.Session() as sess:\n",
    "    init.run()\n",
    "    result = z.eval(feed_dict = {x: x_data, y: y_data})\n",
    "    save_path = saver.save(sess,'imagery/model.ckpt') \n",
    "print result"
   ]
  },
  {
   "cell_type": "code",
   "execution_count": 5,
   "metadata": {},
   "outputs": [
    {
     "name": "stdout",
     "output_type": "stream",
     "text": [
      "INFO:tensorflow:Restoring parameters from imagery/model.ckpt\n",
      "[[32.]]\n"
     ]
    }
   ],
   "source": [
    "# restore the session and run it again\n",
    "\n",
    "with tf.Session() as sess:\n",
    "    saver.restore(sess,'imagery/model.ckpt')\n",
    "    result = z.eval(feed_dict={x:x_data, y:y_data} )\n",
    "print result"
   ]
  },
  {
   "cell_type": "markdown",
   "metadata": {},
   "source": [
    "#### Automatic differentiation"
   ]
  },
  {
   "cell_type": "code",
   "execution_count": 4,
   "metadata": {},
   "outputs": [
    {
     "name": "stdout",
     "output_type": "stream",
     "text": [
      "z = 16.0\n",
      "dz/dx = \n",
      "[[8. 8.]\n",
      " [8. 8.]]\n",
      "dz/dy = 8.0\n"
     ]
    }
   ],
   "source": [
    "tf.reset_default_graph()\n",
    "\n",
    "# log file for tensorboard\n",
    "now = datetime.utcnow().strftime(\"%Y%m%d%H%M%S\")\n",
    "logdir = 'tf_logs/run-'+str(now)\n",
    "\n",
    "# a 2x2 tensor of ones\n",
    "x = tf.Variable(tf.ones((2,2)))\n",
    "\n",
    "# a computation z = sum(x)^2 = 16\n",
    "y = tf.reduce_sum(x)\n",
    "z = y*y\n",
    "\n",
    "# Derivative of z with respect to the original input tensor x\n",
    "#     dz/dx_ij = 2*sum(x)*d(x11+x12+x21+x22)/dx_ij = 2*4*1 = 8, for i,j = 1,2\n",
    "# Derivative of z with respect to y = sum(x)\n",
    "#     dz/sum(x) = 2*sum(x) = 2*4 = 8\n",
    "result = tf.gradients(z,[x,y])\n",
    "\n",
    "file_writer = tf.summary.FileWriter(logdir,tf.get_default_graph())\n",
    "\n",
    "# run the calculation\n",
    "with tf.Session() as sess:\n",
    "    x.initializer.run()\n",
    "    print 'z = %s' %z.eval()\n",
    "    print 'dz/dx = \\n%s' %result[0].eval()\n",
    "    print 'dz/dy = %s' %result[1].eval()\n"
   ]
  },
  {
   "cell_type": "markdown",
   "metadata": {},
   "source": [
    "#### Eager execution (RESTART THE IPYTHON KERNEL!!)"
   ]
  },
  {
   "cell_type": "code",
   "execution_count": null,
   "metadata": {},
   "outputs": [],
   "source": [
    "import tensorflow as tf\n",
    "import numpy as np\n",
    "tf.enable_eager_execution()\n",
    "print tf.executing_eagerly()"
   ]
  },
  {
   "cell_type": "code",
   "execution_count": null,
   "metadata": {},
   "outputs": [],
   "source": [
    "x = np.mat([1.,2.,3.])\n",
    "y = np.mat([4.,5.,6.])\n",
    "\n",
    "# in numpy\n",
    "z = x*y.T\n",
    "print 'numpy result: %f' %z\n",
    "\n",
    "# in tensorflow\n",
    "yt = tf.transpose(y)\n",
    "z = tf.matmul(x,yt)\n",
    "print 'tensor result: %s' %z\n",
    "\n",
    "# convert tensor result to numpy array\n",
    "print 'convert tensor to numpy: %f' %z.numpy()\n",
    "\n",
    "# where is the variable z?\n",
    "print 'location of z: %s' % z.device"
   ]
  },
  {
   "cell_type": "markdown",
   "metadata": {},
   "source": [
    "#### Automatic differentiation with eager execution"
   ]
  },
  {
   "cell_type": "code",
   "execution_count": null,
   "metadata": {},
   "outputs": [],
   "source": [
    "# a 2x2 tensor, now we can print it without a session\n",
    "x = tf.ones((2, 2))\n",
    "print 'as tensor x = %s' % x\n",
    "print 'as numpy array x =\\n %s' % x.numpy()"
   ]
  },
  {
   "cell_type": "code",
   "execution_count": null,
   "metadata": {},
   "outputs": [],
   "source": [
    "with tf.GradientTape(persistent=True) as t:\n",
    "  t.watch(x)\n",
    "# a computation z = sum(x)^2 \n",
    "  y = tf.reduce_sum(x)   # sum(x)\n",
    "  z = tf.multiply(y, y)  # sum(x)^2\n",
    "print 'z = sum(x)^2 = %s' % z.numpy()"
   ]
  },
  {
   "cell_type": "code",
   "execution_count": null,
   "metadata": {},
   "outputs": [],
   "source": [
    "# Derivative of z with respect to the original input tensor x\n",
    "#     dz/dx_ij = 2*sum(x)*d(x11+x12+x21+x22)/dx_ij = 2*4*1 = 8, for i,j = 1,2\n",
    "dz_dx = t.gradient(z, x)\n",
    "print 'dz/dx =\\n %s' % dz_dx.numpy()"
   ]
  },
  {
   "cell_type": "code",
   "execution_count": null,
   "metadata": {},
   "outputs": [],
   "source": [
    "# Derivative of z with respect to sum(x)\n",
    "#     dz/sum(x) = 2*sum(x) = 2*4 = 8\n",
    "dz_dy = t.gradient(z, y)\n",
    "print 'dz/d(sum(x)) = %s' % dz_dy.numpy()"
   ]
  },
  {
   "cell_type": "code",
   "execution_count": null,
   "metadata": {},
   "outputs": [],
   "source": [
    "# the tape object is still im memory\n",
    "print t\n",
    "# so delete it\n",
    "del t\n",
    "# confirm\n",
    "try: \n",
    "    print t\n",
    "except:\n",
    "    print 'gone'"
   ]
  }
 ],
 "metadata": {
  "anaconda-cloud": {},
  "kernelspec": {
   "display_name": "Python 2",
   "language": "python",
   "name": "python2"
  },
  "language_info": {
   "codemirror_mode": {
    "name": "ipython",
    "version": 2
   },
   "file_extension": ".py",
   "mimetype": "text/x-python",
   "name": "python",
   "nbconvert_exporter": "python",
   "pygments_lexer": "ipython2",
   "version": "2.7.12"
  }
 },
 "nbformat": 4,
 "nbformat_minor": 2
}
